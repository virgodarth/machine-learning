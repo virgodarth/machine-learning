{
 "cells": [
  {
   "cell_type": "markdown",
   "metadata": {},
   "source": [
    "# Asian and Indian Cuisines"
   ]
  },
  {
   "cell_type": "code",
   "execution_count": 1,
   "metadata": {},
   "outputs": [],
   "source": [
    "import pandas as pd\n",
    "import seaborn as sns\n",
    "from matplotlib import pyplot as plt\n",
    "from sklearn.model_selection import train_test_split\n",
    "from MachineLearningUtils.preprocessing_data import PreProcessingData\n",
    "from MachineLearningUtils.naive_bayes_learning import BernoulliNBLearning, MultinomialNBLearning\n",
    "from MachineLearningUtils.linear_learning import LogisticRegressionLearning\n",
    "from sklearn.naive_bayes import BernoulliNB, MultinomialNB\n",
    "from sklearn.metrics import accuracy_score, confusion_matrix, roc_auc_score, roc_curve, auc, classification_report\n",
    "from sklearn.preprocessing import LabelBinarizer, LabelEncoder, binarize\n",
    "import numpy as np"
   ]
  },
  {
   "cell_type": "code",
   "execution_count": 2,
   "metadata": {},
   "outputs": [],
   "source": [
    "import warnings\n",
    "warnings.filterwarnings('ignore') "
   ]
  },
  {
   "cell_type": "code",
   "execution_count": 3,
   "metadata": {},
   "outputs": [],
   "source": [
    "cuisines_df = pd.read_csv('du lieu cung cap/asian_indian_recipes.csv')"
   ]
  },
  {
   "cell_type": "code",
   "execution_count": 4,
   "metadata": {},
   "outputs": [
    {
     "data": {
      "text/plain": [
       "korean      799\n",
       "indian      598\n",
       "chinese     442\n",
       "japanese    320\n",
       "thai        289\n",
       "Name: cuisine, dtype: int64"
      ]
     },
     "execution_count": 4,
     "metadata": {},
     "output_type": "execute_result"
    }
   ],
   "source": [
    "cuisines_df.cuisine.value_counts()"
   ]
  },
  {
   "cell_type": "code",
   "execution_count": 5,
   "metadata": {},
   "outputs": [
    {
     "data": {
      "text/html": [
       "<div>\n",
       "<style scoped>\n",
       "    .dataframe tbody tr th:only-of-type {\n",
       "        vertical-align: middle;\n",
       "    }\n",
       "\n",
       "    .dataframe tbody tr th {\n",
       "        vertical-align: top;\n",
       "    }\n",
       "\n",
       "    .dataframe thead th {\n",
       "        text-align: right;\n",
       "    }\n",
       "</style>\n",
       "<table border=\"1\" class=\"dataframe\">\n",
       "  <thead>\n",
       "    <tr style=\"text-align: right;\">\n",
       "      <th></th>\n",
       "      <th>Unnamed: 0</th>\n",
       "      <th>cuisine</th>\n",
       "      <th>almond</th>\n",
       "      <th>angelica</th>\n",
       "      <th>anise</th>\n",
       "      <th>anise_seed</th>\n",
       "      <th>apple</th>\n",
       "      <th>apple_brandy</th>\n",
       "      <th>apricot</th>\n",
       "      <th>armagnac</th>\n",
       "      <th>...</th>\n",
       "      <th>whiskey</th>\n",
       "      <th>white_bread</th>\n",
       "      <th>white_wine</th>\n",
       "      <th>whole_grain_wheat_flour</th>\n",
       "      <th>wine</th>\n",
       "      <th>wood</th>\n",
       "      <th>yam</th>\n",
       "      <th>yeast</th>\n",
       "      <th>yogurt</th>\n",
       "      <th>zucchini</th>\n",
       "    </tr>\n",
       "  </thead>\n",
       "  <tbody>\n",
       "    <tr>\n",
       "      <th>0</th>\n",
       "      <td>65</td>\n",
       "      <td>indian</td>\n",
       "      <td>0</td>\n",
       "      <td>0</td>\n",
       "      <td>0</td>\n",
       "      <td>0</td>\n",
       "      <td>0</td>\n",
       "      <td>0</td>\n",
       "      <td>0</td>\n",
       "      <td>0</td>\n",
       "      <td>...</td>\n",
       "      <td>0</td>\n",
       "      <td>0</td>\n",
       "      <td>0</td>\n",
       "      <td>0</td>\n",
       "      <td>0</td>\n",
       "      <td>0</td>\n",
       "      <td>0</td>\n",
       "      <td>0</td>\n",
       "      <td>0</td>\n",
       "      <td>0</td>\n",
       "    </tr>\n",
       "    <tr>\n",
       "      <th>1</th>\n",
       "      <td>66</td>\n",
       "      <td>indian</td>\n",
       "      <td>1</td>\n",
       "      <td>0</td>\n",
       "      <td>0</td>\n",
       "      <td>0</td>\n",
       "      <td>0</td>\n",
       "      <td>0</td>\n",
       "      <td>0</td>\n",
       "      <td>0</td>\n",
       "      <td>...</td>\n",
       "      <td>0</td>\n",
       "      <td>0</td>\n",
       "      <td>0</td>\n",
       "      <td>0</td>\n",
       "      <td>0</td>\n",
       "      <td>0</td>\n",
       "      <td>0</td>\n",
       "      <td>0</td>\n",
       "      <td>0</td>\n",
       "      <td>0</td>\n",
       "    </tr>\n",
       "    <tr>\n",
       "      <th>2</th>\n",
       "      <td>67</td>\n",
       "      <td>indian</td>\n",
       "      <td>0</td>\n",
       "      <td>0</td>\n",
       "      <td>0</td>\n",
       "      <td>0</td>\n",
       "      <td>0</td>\n",
       "      <td>0</td>\n",
       "      <td>0</td>\n",
       "      <td>0</td>\n",
       "      <td>...</td>\n",
       "      <td>0</td>\n",
       "      <td>0</td>\n",
       "      <td>0</td>\n",
       "      <td>0</td>\n",
       "      <td>0</td>\n",
       "      <td>0</td>\n",
       "      <td>0</td>\n",
       "      <td>0</td>\n",
       "      <td>0</td>\n",
       "      <td>0</td>\n",
       "    </tr>\n",
       "    <tr>\n",
       "      <th>3</th>\n",
       "      <td>68</td>\n",
       "      <td>indian</td>\n",
       "      <td>0</td>\n",
       "      <td>0</td>\n",
       "      <td>0</td>\n",
       "      <td>0</td>\n",
       "      <td>0</td>\n",
       "      <td>0</td>\n",
       "      <td>0</td>\n",
       "      <td>0</td>\n",
       "      <td>...</td>\n",
       "      <td>0</td>\n",
       "      <td>0</td>\n",
       "      <td>0</td>\n",
       "      <td>0</td>\n",
       "      <td>0</td>\n",
       "      <td>0</td>\n",
       "      <td>0</td>\n",
       "      <td>0</td>\n",
       "      <td>0</td>\n",
       "      <td>0</td>\n",
       "    </tr>\n",
       "    <tr>\n",
       "      <th>4</th>\n",
       "      <td>69</td>\n",
       "      <td>indian</td>\n",
       "      <td>0</td>\n",
       "      <td>0</td>\n",
       "      <td>0</td>\n",
       "      <td>0</td>\n",
       "      <td>0</td>\n",
       "      <td>0</td>\n",
       "      <td>0</td>\n",
       "      <td>0</td>\n",
       "      <td>...</td>\n",
       "      <td>0</td>\n",
       "      <td>0</td>\n",
       "      <td>0</td>\n",
       "      <td>0</td>\n",
       "      <td>0</td>\n",
       "      <td>0</td>\n",
       "      <td>0</td>\n",
       "      <td>0</td>\n",
       "      <td>1</td>\n",
       "      <td>0</td>\n",
       "    </tr>\n",
       "  </tbody>\n",
       "</table>\n",
       "<p>5 rows × 385 columns</p>\n",
       "</div>"
      ],
      "text/plain": [
       "   Unnamed: 0 cuisine  almond  angelica  anise  anise_seed  apple  \\\n",
       "0          65  indian       0         0      0           0      0   \n",
       "1          66  indian       1         0      0           0      0   \n",
       "2          67  indian       0         0      0           0      0   \n",
       "3          68  indian       0         0      0           0      0   \n",
       "4          69  indian       0         0      0           0      0   \n",
       "\n",
       "   apple_brandy  apricot  armagnac  ...  whiskey  white_bread  white_wine  \\\n",
       "0             0        0         0  ...        0            0           0   \n",
       "1             0        0         0  ...        0            0           0   \n",
       "2             0        0         0  ...        0            0           0   \n",
       "3             0        0         0  ...        0            0           0   \n",
       "4             0        0         0  ...        0            0           0   \n",
       "\n",
       "   whole_grain_wheat_flour  wine  wood  yam  yeast  yogurt  zucchini  \n",
       "0                        0     0     0    0      0       0         0  \n",
       "1                        0     0     0    0      0       0         0  \n",
       "2                        0     0     0    0      0       0         0  \n",
       "3                        0     0     0    0      0       0         0  \n",
       "4                        0     0     0    0      0       1         0  \n",
       "\n",
       "[5 rows x 385 columns]"
      ]
     },
     "execution_count": 5,
     "metadata": {},
     "output_type": "execute_result"
    }
   ],
   "source": [
    "cuisines_df.head()"
   ]
  },
  {
   "cell_type": "markdown",
   "metadata": {},
   "source": [
    "## Preprocessing data"
   ]
  },
  {
   "cell_type": "markdown",
   "metadata": {},
   "source": [
    "*Xóa những feature chỉ có 1 giá trị*"
   ]
  },
  {
   "cell_type": "code",
   "execution_count": 6,
   "metadata": {},
   "outputs": [
    {
     "data": {
      "text/plain": [
       "korean      799\n",
       "indian      598\n",
       "chinese     442\n",
       "japanese    320\n",
       "thai        289\n",
       "Name: cuisine, dtype: int64"
      ]
     },
     "execution_count": 6,
     "metadata": {},
     "output_type": "execute_result"
    }
   ],
   "source": [
    "cuisines_df.cuisine.value_counts()"
   ]
  },
  {
   "cell_type": "code",
   "execution_count": 7,
   "metadata": {},
   "outputs": [
    {
     "name": "stdout",
     "output_type": "stream",
     "text": [
      "Total null columns =  0\n"
     ]
    }
   ],
   "source": [
    "output_col = 'cuisine'\n",
    "ppd = PreProcessingData(cuisines_df, 'classification')\n",
    "print('Total null columns = ', ppd.get_null_column().shape[0])"
   ]
  },
  {
   "cell_type": "code",
   "execution_count": 8,
   "metadata": {},
   "outputs": [
    {
     "name": "stdout",
     "output_type": "stream",
     "text": [
      "Số lượng features chỉ có 1 giá trị: 100\n"
     ]
    }
   ],
   "source": [
    "# get invalid columns\n",
    "invalid_cols = ['Unnamed: 0']\n",
    "for col in cuisines_df.columns:\n",
    "    if cuisines_df[col].value_counts().shape[0] == 1:\n",
    "        invalid_cols.append(col)\n",
    "print('Số lượng features chỉ có 1 giá trị:', len(invalid_cols))"
   ]
  },
  {
   "cell_type": "markdown",
   "metadata": {},
   "source": [
    "1. Dữ liệu có dạng ma trận thưa\n",
    "2. Các Features có dạng nhị phân nhận 2 giá trị 0 và 1 => các cột có độ quan trọng tương đương nhau => không cần giảm số lượng features\n",
    "3. Có 100 thành phần không được sử dụng để nấu trong các món ăn\n",
    "4. Dữ liệu dự đoán có dạng category\n",
    "5. Số mẫu dữ liệu dự đoán của mỗi category tương đối lơn => không cần resampling data\n",
    "6. Dữ liệu không chưa missing data\n",
    "\n",
    "=> Một số mô hình để dự đoán phù hơp có thể là: BernoulliNB, LogisticRegression"
   ]
  },
  {
   "cell_type": "markdown",
   "metadata": {},
   "source": [
    "# Tiền xử lý dữ liệu"
   ]
  },
  {
   "cell_type": "code",
   "execution_count": 9,
   "metadata": {},
   "outputs": [],
   "source": [
    "# remove invalid columns\n",
    "cuisines_df = cuisines_df.drop(invalid_cols, axis=1)"
   ]
  },
  {
   "cell_type": "code",
   "execution_count": 10,
   "metadata": {},
   "outputs": [],
   "source": [
    "ppd = PreProcessingData(cuisines_df, 'classification')"
   ]
  },
  {
   "cell_type": "code",
   "execution_count": 11,
   "metadata": {},
   "outputs": [],
   "source": [
    "le = ppd.label_encode(output_col)\n",
    "inputs = ppd.data.drop([output_col], axis=1)\n",
    "output = ppd.data[output_col]"
   ]
  },
  {
   "cell_type": "markdown",
   "metadata": {},
   "source": [
    "## Loop qua các thuật toán liên quan tới classification để chọn thuật toán phù hợp"
   ]
  },
  {
   "cell_type": "code",
   "execution_count": 12,
   "metadata": {},
   "outputs": [
    {
     "data": {
      "text/html": [
       "<div>\n",
       "<style scoped>\n",
       "    .dataframe tbody tr th:only-of-type {\n",
       "        vertical-align: middle;\n",
       "    }\n",
       "\n",
       "    .dataframe tbody tr th {\n",
       "        vertical-align: top;\n",
       "    }\n",
       "\n",
       "    .dataframe thead th {\n",
       "        text-align: right;\n",
       "    }\n",
       "</style>\n",
       "<table border=\"1\" class=\"dataframe\">\n",
       "  <thead>\n",
       "    <tr style=\"text-align: right;\">\n",
       "      <th></th>\n",
       "      <th>model_name</th>\n",
       "      <th>score_mean</th>\n",
       "    </tr>\n",
       "  </thead>\n",
       "  <tbody>\n",
       "    <tr>\n",
       "      <th>0</th>\n",
       "      <td>LogisticRegression</td>\n",
       "      <td>0.828571</td>\n",
       "    </tr>\n",
       "    <tr>\n",
       "      <th>1</th>\n",
       "      <td>GaussianNB</td>\n",
       "      <td>0.537415</td>\n",
       "    </tr>\n",
       "    <tr>\n",
       "      <th>2</th>\n",
       "      <td>BernoulliNB</td>\n",
       "      <td>0.832653</td>\n",
       "    </tr>\n",
       "    <tr>\n",
       "      <th>3</th>\n",
       "      <td>MultinomialNB</td>\n",
       "      <td>0.834014</td>\n",
       "    </tr>\n",
       "    <tr>\n",
       "      <th>4</th>\n",
       "      <td>KNeighborsClassifier</td>\n",
       "      <td>0.712925</td>\n",
       "    </tr>\n",
       "    <tr>\n",
       "      <th>5</th>\n",
       "      <td>DecisionTreeClassifier</td>\n",
       "      <td>0.706259</td>\n",
       "    </tr>\n",
       "    <tr>\n",
       "      <th>6</th>\n",
       "      <td>RandomForestClassifier</td>\n",
       "      <td>0.767755</td>\n",
       "    </tr>\n",
       "    <tr>\n",
       "      <th>7</th>\n",
       "      <td>SVC</td>\n",
       "      <td>0.797279</td>\n",
       "    </tr>\n",
       "  </tbody>\n",
       "</table>\n",
       "</div>"
      ],
      "text/plain": [
       "               model_name  score_mean\n",
       "0      LogisticRegression    0.828571\n",
       "1              GaussianNB    0.537415\n",
       "2             BernoulliNB    0.832653\n",
       "3           MultinomialNB    0.834014\n",
       "4    KNeighborsClassifier    0.712925\n",
       "5  DecisionTreeClassifier    0.706259\n",
       "6  RandomForestClassifier    0.767755\n",
       "7                     SVC    0.797279"
      ]
     },
     "execution_count": 12,
     "metadata": {},
     "output_type": "execute_result"
    }
   ],
   "source": [
    "ppd.get_best_models(output_col, test_size=0.3)"
   ]
  },
  {
   "cell_type": "markdown",
   "metadata": {},
   "source": [
    "Từ kết quả của grid search cv chọn\n",
    "1. LogisticRegression\n",
    "2. BernoulliNB\n",
    "3. MultinomialNB"
   ]
  },
  {
   "cell_type": "markdown",
   "metadata": {},
   "source": [
    "### Đánh giá dữ liệu với LogisticRegression"
   ]
  },
  {
   "cell_type": "code",
   "execution_count": 13,
   "metadata": {
    "scrolled": false
   },
   "outputs": [],
   "source": [
    "lr = LogisticRegressionLearning(input_data=inputs, output_data=output, mode='classification')\n",
    "lr.train_test_split(test_size=0.3)\n",
    "gscv = lr.get_best_params()\n",
    "lr.build_model()\n",
    "lr_model = lr.model"
   ]
  },
  {
   "cell_type": "code",
   "execution_count": 14,
   "metadata": {},
   "outputs": [
    {
     "data": {
      "text/plain": [
       "{'C': 1, 'solver': 'newton-cg'}"
      ]
     },
     "execution_count": 14,
     "metadata": {},
     "output_type": "execute_result"
    }
   ],
   "source": [
    "lr.best_params"
   ]
  },
  {
   "cell_type": "code",
   "execution_count": 15,
   "metadata": {},
   "outputs": [
    {
     "data": {
      "text/plain": [
       "(0.8704028021015762, 0.8285714285714286)"
      ]
     },
     "execution_count": 15,
     "metadata": {},
     "output_type": "execute_result"
    }
   ],
   "source": [
    "lr_model.score(lr.X_train, lr.y_train), lr_model.score(lr.X_test, lr.y_test)"
   ]
  },
  {
   "cell_type": "code",
   "execution_count": 16,
   "metadata": {},
   "outputs": [
    {
     "name": "stdout",
     "output_type": "stream",
     "text": [
      "              precision    recall  f1-score   support\n",
      "\n",
      "           0       0.75      0.74      0.74       145\n",
      "           1       0.90      0.95      0.93       177\n",
      "           2       0.70      0.65      0.67        88\n",
      "           3       0.85      0.88      0.86       229\n",
      "           4       0.88      0.78      0.83        96\n",
      "\n",
      "    accuracy                           0.83       735\n",
      "   macro avg       0.81      0.80      0.81       735\n",
      "weighted avg       0.83      0.83      0.83       735\n",
      "\n"
     ]
    }
   ],
   "source": [
    "print(classification_report(lr.y_test, lr.y_pred))"
   ]
  },
  {
   "cell_type": "markdown",
   "metadata": {},
   "source": [
    "### Đánh giá dữ liệu với BernoulliNB"
   ]
  },
  {
   "cell_type": "code",
   "execution_count": 17,
   "metadata": {},
   "outputs": [],
   "source": [
    "bnb = BernoulliNBLearning(input_data=inputs, output_data=output, mode='classification')\n",
    "bnb.train_test_split(test_size=0.3)\n",
    "gscv = bnb.get_best_params()\n",
    "bnb.build_model()\n",
    "bnb_model = bnb.model"
   ]
  },
  {
   "cell_type": "code",
   "execution_count": 18,
   "metadata": {},
   "outputs": [
    {
     "data": {
      "text/plain": [
       "{'alpha': 0.7}"
      ]
     },
     "execution_count": 18,
     "metadata": {},
     "output_type": "execute_result"
    }
   ],
   "source": [
    "bnb.best_params"
   ]
  },
  {
   "cell_type": "code",
   "execution_count": 19,
   "metadata": {},
   "outputs": [
    {
     "data": {
      "text/plain": [
       "(0.8137769994162288, 0.8340136054421768)"
      ]
     },
     "execution_count": 19,
     "metadata": {},
     "output_type": "execute_result"
    }
   ],
   "source": [
    "bnb_model.score(bnb.X_train, bnb.y_train), bnb_model.score(bnb.X_test, bnb.y_test)"
   ]
  },
  {
   "cell_type": "code",
   "execution_count": 20,
   "metadata": {},
   "outputs": [
    {
     "name": "stdout",
     "output_type": "stream",
     "text": [
      "              precision    recall  f1-score   support\n",
      "\n",
      "           0       0.78      0.79      0.79       145\n",
      "           1       0.92      0.93      0.92       177\n",
      "           2       0.64      0.64      0.64        88\n",
      "           3       0.85      0.87      0.86       229\n",
      "           4       0.90      0.80      0.85        96\n",
      "\n",
      "    accuracy                           0.83       735\n",
      "   macro avg       0.82      0.81      0.81       735\n",
      "weighted avg       0.83      0.83      0.83       735\n",
      "\n"
     ]
    }
   ],
   "source": [
    "print(classification_report(bnb.y_test, bnb.y_pred))"
   ]
  },
  {
   "cell_type": "markdown",
   "metadata": {},
   "source": [
    "### Đánh giá dữ liệu với MultinomialNB"
   ]
  },
  {
   "cell_type": "code",
   "execution_count": 21,
   "metadata": {},
   "outputs": [],
   "source": [
    "mnb = MultinomialNBLearning(input_data=inputs, output_data=output, mode='classification')\n",
    "mnb.train_test_split(test_size=0.3)\n",
    "gscv = mnb.get_best_params()\n",
    "mnb.build_model()\n",
    "mnb_model = mnb.model"
   ]
  },
  {
   "cell_type": "code",
   "execution_count": 22,
   "metadata": {},
   "outputs": [
    {
     "data": {
      "text/plain": [
       "{'alpha': 0.5}"
      ]
     },
     "execution_count": 22,
     "metadata": {},
     "output_type": "execute_result"
    }
   ],
   "source": [
    "mnb.best_params"
   ]
  },
  {
   "cell_type": "code",
   "execution_count": 23,
   "metadata": {},
   "outputs": [
    {
     "data": {
      "text/plain": [
       "(0.8213660245183888, 0.8326530612244898)"
      ]
     },
     "execution_count": 23,
     "metadata": {},
     "output_type": "execute_result"
    }
   ],
   "source": [
    "mnb_model.score(mnb.X_train, mnb.y_train), mnb_model.score(mnb.X_test, mnb.y_test)"
   ]
  },
  {
   "cell_type": "code",
   "execution_count": 24,
   "metadata": {},
   "outputs": [
    {
     "name": "stdout",
     "output_type": "stream",
     "text": [
      "              precision    recall  f1-score   support\n",
      "\n",
      "           0       0.76      0.79      0.77       145\n",
      "           1       0.90      0.94      0.92       177\n",
      "           2       0.75      0.59      0.66        88\n",
      "           3       0.85      0.87      0.86       229\n",
      "           4       0.84      0.82      0.83        96\n",
      "\n",
      "    accuracy                           0.83       735\n",
      "   macro avg       0.82      0.80      0.81       735\n",
      "weighted avg       0.83      0.83      0.83       735\n",
      "\n"
     ]
    }
   ],
   "source": [
    "print(classification_report(mnb.y_test, mnb.y_pred))"
   ]
  },
  {
   "cell_type": "markdown",
   "metadata": {},
   "source": [
    "### 1. Tạo X_train, X_test, y_train, y_test từ dữ liệu đã đọc và chuẩn hóa,với tỷ lệ dữ liệu test là 0.3"
   ]
  },
  {
   "cell_type": "code",
   "execution_count": 25,
   "metadata": {},
   "outputs": [],
   "source": [
    "X_train, X_test, y_train, y_test = train_test_split(inputs, output, test_size=0.3, random_state=42)"
   ]
  },
  {
   "cell_type": "markdown",
   "metadata": {},
   "source": [
    "### 2. Dựa vào kết quả chạy thử grib search và chọn best params ==> chọn BernoulliNB với alpha=0.7"
   ]
  },
  {
   "cell_type": "markdown",
   "metadata": {},
   "source": [
    "Khảo sát 3 thuật toán có độ chính xác sắp xĩ bằng nhau => chọn thuật toán BernoulliNB\n",
    "1. Thuật toán BernoulliNB có cặp (recall, prediction) của mỗi category đều nhau\n",
    "2. Thuật toán BernoulliNB có độ recall, prediction của từng category đều nhau\n",
    "3. BernoulliNB thích hợp cho việc build model khi các giá trị để dự đoán là nhị phân ==> tốc độ chạy nhanh\n",
    "4. Model sau khi build có độ chính xác giữa train và test gần bằng nhau ==> model ổn định"
   ]
  },
  {
   "cell_type": "code",
   "execution_count": 26,
   "metadata": {},
   "outputs": [
    {
     "data": {
      "text/plain": [
       "BernoulliNB(alpha=0.7, binarize=0.0, class_prior=None, fit_prior=True)"
      ]
     },
     "execution_count": 26,
     "metadata": {},
     "output_type": "execute_result"
    }
   ],
   "source": [
    "from sklearn.naive_bayes import BernoulliNB\n",
    "\n",
    "cuisine_model = BernoulliNB(alpha=0.7)\n",
    "cuisine_model.fit(X_train, y_train)"
   ]
  },
  {
   "cell_type": "markdown",
   "metadata": {},
   "source": [
    "### 3. Đánh giá model"
   ]
  },
  {
   "cell_type": "code",
   "execution_count": 27,
   "metadata": {},
   "outputs": [],
   "source": [
    "y_pred = cuisine_model.predict(X_test)"
   ]
  },
  {
   "cell_type": "code",
   "execution_count": 28,
   "metadata": {},
   "outputs": [
    {
     "name": "stdout",
     "output_type": "stream",
     "text": [
      "Độ chính xác trên tập Train:  81.37769994162288 %\n",
      "Độ chính xác trên tập Test:  83.40136054421768 %\n",
      "Độ chính xác trên toàn dữ liệu:  81.98529411764706 %\n"
     ]
    }
   ],
   "source": [
    "print('Độ chính xác trên tập Train: ', cuisine_model.score(X_train, y_train)*100, '%')\n",
    "print('Độ chính xác trên tập Test: ', cuisine_model.score(X_test, y_test)*100, '%')\n",
    "print('Độ chính xác trên toàn dữ liệu: ', cuisine_model.score(inputs, output)*100, '%')"
   ]
  },
  {
   "cell_type": "code",
   "execution_count": 29,
   "metadata": {},
   "outputs": [
    {
     "name": "stdout",
     "output_type": "stream",
     "text": [
      "              precision    recall  f1-score   support\n",
      "\n",
      "           0       0.78      0.79      0.79       145\n",
      "           1       0.92      0.93      0.92       177\n",
      "           2       0.64      0.64      0.64        88\n",
      "           3       0.85      0.87      0.86       229\n",
      "           4       0.90      0.80      0.85        96\n",
      "\n",
      "    accuracy                           0.83       735\n",
      "   macro avg       0.82      0.81      0.81       735\n",
      "weighted avg       0.83      0.83      0.83       735\n",
      "\n"
     ]
    }
   ],
   "source": [
    "print(classification_report(y_test, y_pred))"
   ]
  },
  {
   "cell_type": "code",
   "execution_count": 30,
   "metadata": {},
   "outputs": [
    {
     "name": "stdout",
     "output_type": "stream",
     "text": [
      "[[115   4   7  18   1]\n",
      " [  1 165   7   1   3]\n",
      " [ 13   2  56  13   4]\n",
      " [ 12   1  15 200   1]\n",
      " [  6   8   3   2  77]]\n"
     ]
    }
   ],
   "source": [
    "print(confusion_matrix(y_test, y_pred))"
   ]
  },
  {
   "cell_type": "markdown",
   "metadata": {},
   "source": [
    "**Summary about the model:**\n",
    "1. High precision: ~0.82, High recall: ~0.81\n",
    "2. High training R^2 score: ~0.81 and High testing score: ~0.83, nearly the same\n",
    "3. Tuy nhiên độ precision, recall, f1 score của từng category không đồng đều, đặc biệt là món Nhật chỉ có 0.64 ở precision, recall và f1 score\n",
    "\n",
    "=> cần thu tập thêm dữ liệu hoặc resapling lại dữ liệu các món ăn có dữ liệu thấp để tăng độ chính xác cho model"
   ]
  },
  {
   "cell_type": "markdown",
   "metadata": {},
   "source": [
    "### 4. Trực quan hóa kết quả dự đoán được từ model"
   ]
  },
  {
   "cell_type": "code",
   "execution_count": 31,
   "metadata": {},
   "outputs": [
    {
     "data": {
      "text/plain": [
       "cumin        0.039886\n",
       "soy_sauce    0.039546\n",
       "fish         0.028914\n",
       "dtype: float64"
      ]
     },
     "execution_count": 31,
     "metadata": {},
     "output_type": "execute_result"
    }
   ],
   "source": [
    "# chọn column để trực quan hóa dữ liệu\n",
    "ppd.get_k_best_features_by_random_forest(output_col, 3)"
   ]
  },
  {
   "cell_type": "code",
   "execution_count": 32,
   "metadata": {},
   "outputs": [
    {
     "name": "stdout",
     "output_type": "stream",
     "text": [
      "Độ chính xác của model là  83.40136054421768 %\n"
     ]
    }
   ],
   "source": [
    "print('Độ chính xác của model là ', accuracy_score(y_test, cuisine_model.predict(X_test))*100, '%')"
   ]
  },
  {
   "cell_type": "code",
   "execution_count": 33,
   "metadata": {},
   "outputs": [],
   "source": [
    "y_pred = cuisine_model.predict(X_test)\n",
    "y_prob = cuisine_model.predict_proba(X_test)"
   ]
  },
  {
   "cell_type": "code",
   "execution_count": 34,
   "metadata": {},
   "outputs": [],
   "source": [
    "lb = LabelBinarizer()\n",
    "lb.fit(y_test)\n",
    "\n",
    "y_btest = lb.transform(y_test)\n",
    "y_bpred = lb.transform(y_pred)\n",
    "y_bprob = binarize(y_prob, 0.35)"
   ]
  },
  {
   "cell_type": "code",
   "execution_count": 35,
   "metadata": {},
   "outputs": [
    {
     "data": {
      "image/png": "[encoded data removed]",
      "text/plain": [
       "<Figure size 432x432 with 1 Axes>"
      ]
     },
     "metadata": {
      "needs_background": "light"
     },
     "output_type": "display_data"
    }
   ],
   "source": [
    "from mpl_toolkits.mplot3d import Axes3D\n",
    "\n",
    "fig=plt.figure(figsize=(6,6))\n",
    "ax=fig.add_subplot(111, projection='3d')\n",
    "\n",
    "colors = ('red', 'blue', 'green', 'gray', 'cyan')\n",
    "color = [colors[x] for x in y_pred]\n",
    "ax.scatter(X_test.sesame_oil, X_test.cilantro, X_test.turmeric, color=color)\n",
    "plt.show()"
   ]
  },
  {
   "cell_type": "code",
   "execution_count": 36,
   "metadata": {},
   "outputs": [
    {
     "data": {
      "text/plain": [
       "(0.8825260019989838, 0.8902305793051978)"
      ]
     },
     "execution_count": 36,
     "metadata": {},
     "output_type": "execute_result"
    }
   ],
   "source": [
    "roc_auc_score(y_btest, y_bpred), roc_auc_score(y_btest, y_bprob)"
   ]
  },
  {
   "cell_type": "code",
   "execution_count": 37,
   "metadata": {},
   "outputs": [],
   "source": [
    "n_classes = y_btest.shape[1]\n",
    "\n",
    "# Compute ROC curve and ROC area for each class\n",
    "fpr = dict()\n",
    "tpr = dict()\n",
    "roc_auc = dict()\n",
    "for i in range(n_classes):\n",
    "    fpr[i], tpr[i], _ = roc_curve(y_btest[:, i], y_bprob[:, i])\n",
    "    roc_auc[i] = auc(fpr[i], tpr[i])\n",
    "\n",
    "# Compute micro-average ROC curve and ROC area\n",
    "fpr[\"micro\"], tpr[\"micro\"], _ = roc_curve(y_btest.ravel(), y_bprob.ravel())\n",
    "roc_auc[\"micro\"] = auc(fpr[\"micro\"], tpr[\"micro\"])"
   ]
  },
  {
   "cell_type": "code",
   "execution_count": 38,
   "metadata": {},
   "outputs": [
    {
     "data": {
      "image/png": "[encoded data removed]",
      "text/plain": [
       "<Figure size 432x288 with 1 Axes>"
      ]
     },
     "metadata": {
      "needs_background": "light"
     },
     "output_type": "display_data"
    }
   ],
   "source": [
    "plt.figure()\n",
    "lw = 2\n",
    "plt.plot(fpr[2], tpr[2], color='darkorange',\n",
    "         lw=lw, label='ROC curve (area = %0.2f)' % roc_auc[2])\n",
    "plt.plot([0, 1], [0, 1], color='navy', lw=lw, linestyle='--')\n",
    "plt.xlim([0.0, 1.0])\n",
    "plt.ylim([0.0, 1.05])\n",
    "plt.xlabel('False Positive Rate')\n",
    "plt.ylabel('True Positive Rate')\n",
    "plt.title('Receiver operating characteristic example')\n",
    "plt.legend(loc=\"lower right\")\n",
    "plt.show()"
   ]
  },
  {
   "cell_type": "markdown",
   "metadata": {},
   "source": [
    "Nhận xét ROC\n",
    "1. ROC curve đạt khoảng 80%, giá trị chạm ngưỡng tốt\n",
    "2. Có một điểm cắt ở (0.66, 0.8)\n",
    "3. Dữ liệu dự đoán chưa được tốt do ROC curve cách xa trục 1"
   ]
  },
  {
   "cell_type": "markdown",
   "metadata": {},
   "source": [
    "### 5. Dựa trên kết quả, hãy cho biết nếu trong thành phần của món ăn có “cumin” và “fish” nhưng không có “yogurt” thì món ăn đó thường là món ăn của nước nào?"
   ]
  },
  {
   "cell_type": "code",
   "execution_count": 39,
   "metadata": {},
   "outputs": [
    {
     "data": {
      "text/plain": [
       "4    44\n",
       "2     3\n",
       "1     3\n",
       "3     2\n",
       "Name: cuisine, dtype: int64"
      ]
     },
     "execution_count": 39,
     "metadata": {},
     "output_type": "execute_result"
    }
   ],
   "source": [
    "cuisines_df[(cuisines_df.cumin == 1) & (cuisines_df.fish == 1) & (cuisines_df.yogurt == 0)].cuisine.value_counts()"
   ]
  },
  {
   "cell_type": "markdown",
   "metadata": {},
   "source": [
    "Dựa vào kết quả trên, nếu thành phần món ăn có cumin và fish nhưng không có yourt thì món ăn đó thường là của Thái"
   ]
  },
  {
   "cell_type": "markdown",
   "metadata": {},
   "source": [
    "### 6. Dựa trên kết quả, hãy cho biết nếu trong thành phần của món ăn có “cumin” nhưng khôngcó “fish”  và không có  “soy_sauce” thì món ăn đó thường là món ăn của nước nào?"
   ]
  },
  {
   "cell_type": "code",
   "execution_count": 40,
   "metadata": {},
   "outputs": [
    {
     "data": {
      "text/plain": [
       "1    346\n",
       "4     25\n",
       "2      2\n",
       "3      1\n",
       "0      1\n",
       "Name: cuisine, dtype: int64"
      ]
     },
     "execution_count": 40,
     "metadata": {},
     "output_type": "execute_result"
    }
   ],
   "source": [
    "cuisines_df[(cuisines_df.cumin == 1) & (cuisines_df.fish == 0) & (cuisines_df.soy_sauce == 0)].cuisine.value_counts()"
   ]
  },
  {
   "cell_type": "markdown",
   "metadata": {},
   "source": [
    "Dựa vào kết quả trên, nếu thành phần món ăn có cumin, nhưng không có fish và soy_sauce thì món ăn đó thường là của Indian"
   ]
  },
  {
   "cell_type": "markdown",
   "metadata": {},
   "source": [
    "### 7. In nội dungconfusion matrix"
   ]
  },
  {
   "cell_type": "code",
   "execution_count": 41,
   "metadata": {},
   "outputs": [
    {
     "data": {
      "text/plain": [
       "3    229\n",
       "1    177\n",
       "0    145\n",
       "4     96\n",
       "2     88\n",
       "Name: cuisine, dtype: int64"
      ]
     },
     "execution_count": 41,
     "metadata": {},
     "output_type": "execute_result"
    }
   ],
   "source": [
    "y_test.value_counts()"
   ]
  },
  {
   "cell_type": "code",
   "execution_count": 42,
   "metadata": {},
   "outputs": [
    {
     "data": {
      "image/png": "[encoded data removed]",
      "text/plain": [
       "<Figure size 432x288 with 2 Axes>"
      ]
     },
     "metadata": {
      "needs_background": "light"
     },
     "output_type": "display_data"
    }
   ],
   "source": [
    "y_pred = cuisine_model.predict(X_test)\n",
    "y_test_r = le.inverse_transform(y_test)\n",
    "y_pred_r = le.inverse_transform(y_pred)\n",
    "contries = np.unique(y_test_r)\n",
    "\n",
    "mat = confusion_matrix(y_test_r, y_pred_r)\n",
    "\n",
    "sns.heatmap(\n",
    "    mat, square=True, annot=True, fmt='d', cbar=True, cmap=\"YlGnBu\",\n",
    "    xticklabels=contries, yticklabels=contries)\n",
    "plt.xlabel('Predicted Label')\n",
    "plt.ylabel('True Label');"
   ]
  },
  {
   "cell_type": "markdown",
   "metadata": {},
   "source": [
    "#### a. Tỷ lệ% các công thức món ăn của Nhật Bản được dự đoán chính xác"
   ]
  },
  {
   "cell_type": "code",
   "execution_count": 43,
   "metadata": {},
   "outputs": [
    {
     "name": "stdout",
     "output_type": "stream",
     "text": [
      "Tỷ lệ món Nhật được dự đoán chính xác = 63.63636363636363\n"
     ]
    }
   ],
   "source": [
    "print('Tỷ lệ món Nhật được dự đoán chính xác =', mat[2][2]/sum(mat[2]) * 100) "
   ]
  },
  {
   "cell_type": "markdown",
   "metadata": {},
   "source": [
    "#### b. Tỷ lệ% các công thức món ăn của Hàn Quốc bị gán sai nhãn thành Nhật Bản?"
   ]
  },
  {
   "cell_type": "code",
   "execution_count": 44,
   "metadata": {},
   "outputs": [
    {
     "name": "stdout",
     "output_type": "stream",
     "text": [
      "Tỷ lệ món Hàn bị gán sai thành Nhật = 6.550218340611353\n"
     ]
    }
   ],
   "source": [
    "print('Tỷ lệ món Hàn bị gán sai thành Nhật =', mat[3][2]/sum(mat[3]) * 100)"
   ]
  },
  {
   "cell_type": "markdown",
   "metadata": {},
   "source": [
    "#### c. Nước nào có tỷ lệ % các công thức món ăn bị gán nhãn sai nhiều nhất?"
   ]
  },
  {
   "cell_type": "code",
   "execution_count": 45,
   "metadata": {},
   "outputs": [
    {
     "name": "stdout",
     "output_type": "stream",
     "text": [
      "Nước japanese là nước bị gán nhãn sai nhiều nhất với tỉ lệ 36.36363636363637 %\n"
     ]
    }
   ],
   "source": [
    "countries = ['chinese', 'indian', 'japanese', 'korean', 'thai']\n",
    "highest_incorrect_contry = None\n",
    "highest_incorrect_ratio = 0\n",
    "for i, country in enumerate(countries):\n",
    "    incorrect_ratio = 1 - mat[i][i]/sum(mat[i])\n",
    "    if incorrect_ratio > highest_incorrect_ratio:\n",
    "        highest_incorrect_ratio = incorrect_ratio\n",
    "        highest_incorrect_country = country\n",
    "print('Nước', highest_incorrect_country, 'là nước bị gán nhãn sai nhiều nhất với tỉ lệ', highest_incorrect_ratio*100, '%')"
   ]
  },
  {
   "cell_type": "code",
   "execution_count": null,
   "metadata": {},
   "outputs": [],
   "source": []
  }
 ],
 "metadata": {
  "kernelspec": {
   "display_name": "Python 3",
   "language": "python",
   "name": "python3"
  },
  "language_info": {
   "codemirror_mode": {
    "name": "ipython",
    "version": 3
   },
   "file_extension": ".py",
   "mimetype": "text/x-python",
   "name": "python",
   "nbconvert_exporter": "python",
   "pygments_lexer": "ipython3",
   "version": "3.7.3"
  }
 },
 "nbformat": 4,
 "nbformat_minor": 2
}
